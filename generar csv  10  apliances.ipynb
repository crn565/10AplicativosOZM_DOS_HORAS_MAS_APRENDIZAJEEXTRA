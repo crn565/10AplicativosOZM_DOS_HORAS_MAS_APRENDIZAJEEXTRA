{
 "cells": [
  {
   "cell_type": "markdown",
   "id": "7940e5a2",
   "metadata": {},
   "source": [
    "# Generar CSV\n"
   ]
  },
  {
   "cell_type": "code",
   "execution_count": 1,
   "id": "304fd03e",
   "metadata": {},
   "outputs": [],
   "source": [
    "#fihero 1"
   ]
  },
  {
   "cell_type": "markdown",
   "id": "e228f6f4",
   "metadata": {},
   "source": [
    "Cada   bloque va concatenando cada fichero csv en orden temporal correspondiemnte al mismo aplicativo pero tomado en diferentes periodos de tiempo\n",
    "Los ficheros csv han de estar ordenados en criterio temporal y por aplicativo\n",
    "Es importante destacar que se omiten las cabeceras de cada csv ya que solo se rquiere una unica\n",
    "Obviamente solo aparece una cabecera al principio del fichero unico de unión de todos los csv's\n"
   ]
  },
  {
   "cell_type": "code",
   "execution_count": 1,
   "id": "1614268c",
   "metadata": {},
   "outputs": [
    {
     "name": "stdout",
     "output_type": "stream",
     "text": [
      "Opening CSV file 1_1.csv\n",
      "Getting data from CSV file 1_1.csv\n"
     ]
    },
    {
     "name": "stdout",
     "output_type": "stream",
     "text": [
      "Closing CSV file 1_1.csv\n",
      "Opening CSV file 2_1.csv\n",
      "Getting data from CSV file 2_1.csv\n",
      "Closing CSV file 2_1.csv\n",
      "Fin del proceso\n"
     ]
    }
   ],
   "source": [
    "# Import the necessary libraries\n",
    "import csv\n",
    "\n",
    "# Get the names of the CSV files\n",
    "csv_file_names = [  \"1_1.csv\",\"2_1.csv\"]\n",
    "\n",
    "\n",
    "\n",
    "# Create a new CSV file\n",
    "with open(\"1.csv\", \"w\", newline=\"\") as combined_file:\n",
    "\n",
    "    # Write the desired content to the first row\n",
    "    writer = csv.writer(combined_file)\n",
    "    writer.writerow([\"timestamp\",\"W\",\"VAR\",\"VA\",\"f\",\"VLN\",\"PF\",\"A\",\"VH1\",\"VH2\",\"VH3\",\"VH4\",\"VH5\",\"VH6\",\"VH7\",\"VH8\",\"VH9\",\"VH10\",\"VH11\",\"VH12\",\"VH13\",\"VH14\",\"VH15\",\"VH16\",\"VH17\",\"VH18\",\"VH19\",\"VH20\",\"VH21\",\"VH22\",\"VH23\",\"VH24\",\"VH25\",\"VH26\",\"VH27\",\"VH28\",\"VH29\",\"VH30\",\"VH31\",\"VH32\",\"VH33\",\"VH34\",\"VH35\",\"VH36\",\"VH37\",\"VH38\",\"VH39\",\"VH40\",\"VH41\",\"VH42\",\"VH43\",\"VH44\",\"VH45\",\"VH46\",\"VH47\",\"VH48\",\"VH49\",\"VH50\",\"IH1\",\"IH2\",\"IH3\",\"IH4\",\"IH5\",\"IH6\",\"IH7\",\"IH8\",\"IH9\",\"IH10\",\"IH11\",\"IH12\",\"IH13\",\"IH14\",\"IH15\",\"IH16\",\"IH17\",\"IH18\",\"IH19\",\"IH20\",\"IH21\",\"IH22\",\"IH23\",\"IH24\",\"IH25\",\"IH26\",\"IH27\",\"IH28\",\"IH29\",\"IH30\",\"IH31\",\"IH32\",\"IH33\",\"IH34\",\"IH35\",\"IH36\",\"IH37\",\"IH38\",\"IH39\",\"IH40\",\"IH41\",\"IH42\",\"IH43\",\"IH44\",\"IH45\",\"IH46\",\"IH47\",\"IH48\",\"IH49\",\"IH50\",\"PH1\",\"PH2\",\"PH3\",\"PH4\",\"PH5\",\"PH6\",\"PH7\",\"PH8\",\"PH9\",\"PH10\",\"PH11\",\"PH12\",\"PH13\",\"PH14\",\"PH15\",\"PH16\",\"PH17\",\"PH18\",\"PH19\",\"PH20\",\"PH21\",\"PH22\",\"PH23\",\"PH24\",\"PH25\",\"PH26\",\"PH27\",\"PH28\",\"PH29\",\"PH30\",\"PH31\",\"PH32\",\"PH33\",\"PH34\",\"PH35\",\"PH36\",\"PH37\",\"PH38\",\"PH39\",\"PH40\",\"PH41\",\"PH42\",\"PH43\",\"PH44\",\"PH45\",\"PH46\",\"PH47\",\"PH48\",\"PH49\",\"PH50\"])\n",
    "                     \n",
    "                     \n",
    "    #writer.writerow([\"timestamp\", \"VLN\", \"A\", \"W\", \"f\", \"PF\"])\n",
    "\n",
    "    # For each CSV file\n",
    "    for csv_file_name in csv_file_names:\n",
    "        print(\"Opening CSV file {}\".format(csv_file_name))\n",
    "\n",
    "        # Open the CSV file\n",
    "        with open(csv_file_name, \"r\") as csv_file:\n",
    "            print(\"Getting data from CSV file {}\".format(csv_file_name))\n",
    "\n",
    "            # Get the data\n",
    "            data = csv.reader(csv_file)\n",
    "\n",
    "            # Skip the first row\n",
    "            next(data)\n",
    "\n",
    "            # Write the data to the new CSV file\n",
    "            for row in data:\n",
    "                writer.writerow(row)\n",
    "\n",
    "        print(\"Closing CSV file {}\".format(csv_file_name))\n",
    "\n",
    "# Close the new CSV file\n",
    "combined_file.close()\n",
    "print(\"Fin del proceso\")"
   ]
  },
  {
   "cell_type": "markdown",
   "id": "c56438c7",
   "metadata": {},
   "source": [
    "# fichero 2"
   ]
  },
  {
   "cell_type": "code",
   "execution_count": 2,
   "id": "27998cf7",
   "metadata": {},
   "outputs": [
    {
     "name": "stdout",
     "output_type": "stream",
     "text": [
      "Opening CSV file 1_2.csv\n",
      "Getting data from CSV file 1_2.csv\n",
      "Closing CSV file 1_2.csv\n",
      "Opening CSV file 2_2.csv\n",
      "Getting data from CSV file 2_2.csv\n",
      "Closing CSV file 2_2.csv\n",
      "Fin del proceso\n"
     ]
    }
   ],
   "source": [
    "# Import the necessary libraries\n",
    "import csv\n",
    "\n",
    "# Get the names of the CSV files\n",
    "csv_file_names = [  \"1_2.csv\",\"2_2.csv\"]\n",
    "\n",
    "\n",
    "\n",
    "# Create a new CSV file\n",
    "with open(\"2.csv\", \"w\", newline=\"\") as combined_file:\n",
    "\n",
    "    # Write the desired content to the first row\n",
    "    writer = csv.writer(combined_file)\n",
    "  #  writer.writerow([\"timestamp\", \"VLN\", \"A\", \"W\", \"f\", \"PF\"])\n",
    "    writer.writerow([\"timestamp\",\"W\",\"VAR\",\"VA\",\"f\",\"VLN\",\"PF\",\"A\",\"VH1\",\"VH2\",\"VH3\",\"VH4\",\"VH5\",\"VH6\",\"VH7\",\"VH8\",\"VH9\",\"VH10\",\"VH11\",\"VH12\",\"VH13\",\"VH14\",\"VH15\",\"VH16\",\"VH17\",\"VH18\",\"VH19\",\"VH20\",\"VH21\",\"VH22\",\"VH23\",\"VH24\",\"VH25\",\"VH26\",\"VH27\",\"VH28\",\"VH29\",\"VH30\",\"VH31\",\"VH32\",\"VH33\",\"VH34\",\"VH35\",\"VH36\",\"VH37\",\"VH38\",\"VH39\",\"VH40\",\"VH41\",\"VH42\",\"VH43\",\"VH44\",\"VH45\",\"VH46\",\"VH47\",\"VH48\",\"VH49\",\"VH50\",\"IH1\",\"IH2\",\"IH3\",\"IH4\",\"IH5\",\"IH6\",\"IH7\",\"IH8\",\"IH9\",\"IH10\",\"IH11\",\"IH12\",\"IH13\",\"IH14\",\"IH15\",\"IH16\",\"IH17\",\"IH18\",\"IH19\",\"IH20\",\"IH21\",\"IH22\",\"IH23\",\"IH24\",\"IH25\",\"IH26\",\"IH27\",\"IH28\",\"IH29\",\"IH30\",\"IH31\",\"IH32\",\"IH33\",\"IH34\",\"IH35\",\"IH36\",\"IH37\",\"IH38\",\"IH39\",\"IH40\",\"IH41\",\"IH42\",\"IH43\",\"IH44\",\"IH45\",\"IH46\",\"IH47\",\"IH48\",\"IH49\",\"IH50\",\"PH1\",\"PH2\",\"PH3\",\"PH4\",\"PH5\",\"PH6\",\"PH7\",\"PH8\",\"PH9\",\"PH10\",\"PH11\",\"PH12\",\"PH13\",\"PH14\",\"PH15\",\"PH16\",\"PH17\",\"PH18\",\"PH19\",\"PH20\",\"PH21\",\"PH22\",\"PH23\",\"PH24\",\"PH25\",\"PH26\",\"PH27\",\"PH28\",\"PH29\",\"PH30\",\"PH31\",\"PH32\",\"PH33\",\"PH34\",\"PH35\",\"PH36\",\"PH37\",\"PH38\",\"PH39\",\"PH40\",\"PH41\",\"PH42\",\"PH43\",\"PH44\",\"PH45\",\"PH46\",\"PH47\",\"PH48\",\"PH49\",\"PH50\"])\n",
    "\n",
    "    # For each CSV file\n",
    "    for csv_file_name in csv_file_names:\n",
    "        print(\"Opening CSV file {}\".format(csv_file_name))\n",
    "\n",
    "        # Open the CSV file\n",
    "        with open(csv_file_name, \"r\") as csv_file:\n",
    "            print(\"Getting data from CSV file {}\".format(csv_file_name))\n",
    "\n",
    "            # Get the data\n",
    "            data = csv.reader(csv_file)\n",
    "\n",
    "            # Skip the first row\n",
    "            next(data)\n",
    "\n",
    "            # Write the data to the new CSV file\n",
    "            for row in data:\n",
    "                writer.writerow(row)\n",
    "\n",
    "        print(\"Closing CSV file {}\".format(csv_file_name))\n",
    "\n",
    "# Close the new CSV file\n",
    "combined_file.close()\n",
    "print(\"Fin del proceso\")"
   ]
  },
  {
   "cell_type": "code",
   "execution_count": null,
   "id": "a16ff087",
   "metadata": {},
   "outputs": [],
   "source": []
  },
  {
   "cell_type": "markdown",
   "id": "c8c1c55c",
   "metadata": {},
   "source": [
    "# fichero 3\n"
   ]
  },
  {
   "cell_type": "code",
   "execution_count": 3,
   "id": "11473603",
   "metadata": {},
   "outputs": [
    {
     "name": "stdout",
     "output_type": "stream",
     "text": [
      "Opening CSV file 1_3.csv\n",
      "Getting data from CSV file 1_3.csv\n"
     ]
    },
    {
     "name": "stdout",
     "output_type": "stream",
     "text": [
      "Closing CSV file 1_3.csv\n",
      "Opening CSV file 2_3.csv\n",
      "Getting data from CSV file 2_3.csv\n",
      "Closing CSV file 2_3.csv\n",
      "Fin del proceso\n"
     ]
    }
   ],
   "source": [
    "# Import the necessary libraries\n",
    "import csv\n",
    "\n",
    "# Get the names of the CSV files\n",
    "csv_file_names = [  \"1_3.csv\",\"2_3.csv\"]\n",
    "\n",
    "\n",
    "\n",
    "# Create a new CSV file\n",
    "with open(\"3.csv\", \"w\", newline=\"\") as combined_file:\n",
    "\n",
    "    # Write the desired content to the first row\n",
    "    writer = csv.writer(combined_file)\n",
    "    #writer.writerow([\"timestamp\", \"VLN\", \"A\", \"W\", \"f\", \"PF\"])\n",
    "    writer.writerow([\"timestamp\",\"W\",\"VAR\",\"VA\",\"f\",\"VLN\",\"PF\",\"A\",\"VH1\",\"VH2\",\"VH3\",\"VH4\",\"VH5\",\"VH6\",\"VH7\",\"VH8\",\"VH9\",\"VH10\",\"VH11\",\"VH12\",\"VH13\",\"VH14\",\"VH15\",\"VH16\",\"VH17\",\"VH18\",\"VH19\",\"VH20\",\"VH21\",\"VH22\",\"VH23\",\"VH24\",\"VH25\",\"VH26\",\"VH27\",\"VH28\",\"VH29\",\"VH30\",\"VH31\",\"VH32\",\"VH33\",\"VH34\",\"VH35\",\"VH36\",\"VH37\",\"VH38\",\"VH39\",\"VH40\",\"VH41\",\"VH42\",\"VH43\",\"VH44\",\"VH45\",\"VH46\",\"VH47\",\"VH48\",\"VH49\",\"VH50\",\"IH1\",\"IH2\",\"IH3\",\"IH4\",\"IH5\",\"IH6\",\"IH7\",\"IH8\",\"IH9\",\"IH10\",\"IH11\",\"IH12\",\"IH13\",\"IH14\",\"IH15\",\"IH16\",\"IH17\",\"IH18\",\"IH19\",\"IH20\",\"IH21\",\"IH22\",\"IH23\",\"IH24\",\"IH25\",\"IH26\",\"IH27\",\"IH28\",\"IH29\",\"IH30\",\"IH31\",\"IH32\",\"IH33\",\"IH34\",\"IH35\",\"IH36\",\"IH37\",\"IH38\",\"IH39\",\"IH40\",\"IH41\",\"IH42\",\"IH43\",\"IH44\",\"IH45\",\"IH46\",\"IH47\",\"IH48\",\"IH49\",\"IH50\",\"PH1\",\"PH2\",\"PH3\",\"PH4\",\"PH5\",\"PH6\",\"PH7\",\"PH8\",\"PH9\",\"PH10\",\"PH11\",\"PH12\",\"PH13\",\"PH14\",\"PH15\",\"PH16\",\"PH17\",\"PH18\",\"PH19\",\"PH20\",\"PH21\",\"PH22\",\"PH23\",\"PH24\",\"PH25\",\"PH26\",\"PH27\",\"PH28\",\"PH29\",\"PH30\",\"PH31\",\"PH32\",\"PH33\",\"PH34\",\"PH35\",\"PH36\",\"PH37\",\"PH38\",\"PH39\",\"PH40\",\"PH41\",\"PH42\",\"PH43\",\"PH44\",\"PH45\",\"PH46\",\"PH47\",\"PH48\",\"PH49\",\"PH50\"])\n",
    "\n",
    "    # For each CSV file\n",
    "    for csv_file_name in csv_file_names:\n",
    "        print(\"Opening CSV file {}\".format(csv_file_name))\n",
    "\n",
    "        # Open the CSV file\n",
    "        with open(csv_file_name, \"r\") as csv_file:\n",
    "            print(\"Getting data from CSV file {}\".format(csv_file_name))\n",
    "\n",
    "            # Get the data\n",
    "            data = csv.reader(csv_file)\n",
    "\n",
    "            # Skip the first row\n",
    "            next(data)\n",
    "\n",
    "            # Write the data to the new CSV file\n",
    "            for row in data:\n",
    "                writer.writerow(row)\n",
    "\n",
    "        print(\"Closing CSV file {}\".format(csv_file_name))\n",
    "\n",
    "# Close the new CSV file\n",
    "combined_file.close()\n",
    "print(\"Fin del proceso\")"
   ]
  },
  {
   "cell_type": "markdown",
   "id": "3ce7f0e2",
   "metadata": {},
   "source": [
    "# fichero 4"
   ]
  },
  {
   "cell_type": "code",
   "execution_count": 4,
   "id": "25d6e7ce",
   "metadata": {},
   "outputs": [
    {
     "name": "stdout",
     "output_type": "stream",
     "text": [
      "Opening CSV file 1_4.csv\n",
      "Getting data from CSV file 1_4.csv\n"
     ]
    },
    {
     "name": "stdout",
     "output_type": "stream",
     "text": [
      "Closing CSV file 1_4.csv\n",
      "Opening CSV file 2_4.csv\n",
      "Getting data from CSV file 2_4.csv\n",
      "Closing CSV file 2_4.csv\n",
      "Fin del proceso\n"
     ]
    }
   ],
   "source": [
    "# Import the necessary libraries\n",
    "import csv\n",
    "\n",
    "# Get the names of the CSV files\n",
    "csv_file_names = [ \"1_4.csv\",\"2_4.csv\"]\n",
    "\n",
    "\n",
    "\n",
    "# Create a new CSV file\n",
    "with open(\"4.csv\", \"w\", newline=\"\") as combined_file:\n",
    "\n",
    "    # Write the desired content to the first row\n",
    "    writer = csv.writer(combined_file)\n",
    "    #writer.writerow([\"timestamp\", \"VLN\", \"A\", \"W\", \"f\", \"PF\"])\n",
    "    writer.writerow([\"timestamp\",\"W\",\"VAR\",\"VA\",\"f\",\"VLN\",\"PF\",\"A\",\"VH1\",\"VH2\",\"VH3\",\"VH4\",\"VH5\",\"VH6\",\"VH7\",\"VH8\",\"VH9\",\"VH10\",\"VH11\",\"VH12\",\"VH13\",\"VH14\",\"VH15\",\"VH16\",\"VH17\",\"VH18\",\"VH19\",\"VH20\",\"VH21\",\"VH22\",\"VH23\",\"VH24\",\"VH25\",\"VH26\",\"VH27\",\"VH28\",\"VH29\",\"VH30\",\"VH31\",\"VH32\",\"VH33\",\"VH34\",\"VH35\",\"VH36\",\"VH37\",\"VH38\",\"VH39\",\"VH40\",\"VH41\",\"VH42\",\"VH43\",\"VH44\",\"VH45\",\"VH46\",\"VH47\",\"VH48\",\"VH49\",\"VH50\",\"IH1\",\"IH2\",\"IH3\",\"IH4\",\"IH5\",\"IH6\",\"IH7\",\"IH8\",\"IH9\",\"IH10\",\"IH11\",\"IH12\",\"IH13\",\"IH14\",\"IH15\",\"IH16\",\"IH17\",\"IH18\",\"IH19\",\"IH20\",\"IH21\",\"IH22\",\"IH23\",\"IH24\",\"IH25\",\"IH26\",\"IH27\",\"IH28\",\"IH29\",\"IH30\",\"IH31\",\"IH32\",\"IH33\",\"IH34\",\"IH35\",\"IH36\",\"IH37\",\"IH38\",\"IH39\",\"IH40\",\"IH41\",\"IH42\",\"IH43\",\"IH44\",\"IH45\",\"IH46\",\"IH47\",\"IH48\",\"IH49\",\"IH50\",\"PH1\",\"PH2\",\"PH3\",\"PH4\",\"PH5\",\"PH6\",\"PH7\",\"PH8\",\"PH9\",\"PH10\",\"PH11\",\"PH12\",\"PH13\",\"PH14\",\"PH15\",\"PH16\",\"PH17\",\"PH18\",\"PH19\",\"PH20\",\"PH21\",\"PH22\",\"PH23\",\"PH24\",\"PH25\",\"PH26\",\"PH27\",\"PH28\",\"PH29\",\"PH30\",\"PH31\",\"PH32\",\"PH33\",\"PH34\",\"PH35\",\"PH36\",\"PH37\",\"PH38\",\"PH39\",\"PH40\",\"PH41\",\"PH42\",\"PH43\",\"PH44\",\"PH45\",\"PH46\",\"PH47\",\"PH48\",\"PH49\",\"PH50\"])\n",
    "\n",
    "    # For each CSV file\n",
    "    for csv_file_name in csv_file_names:\n",
    "        print(\"Opening CSV file {}\".format(csv_file_name))\n",
    "\n",
    "        # Open the CSV file\n",
    "        with open(csv_file_name, \"r\") as csv_file:\n",
    "            print(\"Getting data from CSV file {}\".format(csv_file_name))\n",
    "\n",
    "            # Get the data\n",
    "            data = csv.reader(csv_file)\n",
    "\n",
    "            # Skip the first row\n",
    "            next(data)\n",
    "\n",
    "            # Write the data to the new CSV file\n",
    "            for row in data:\n",
    "                writer.writerow(row)\n",
    "\n",
    "        print(\"Closing CSV file {}\".format(csv_file_name))\n",
    "\n",
    "# Close the new CSV file\n",
    "combined_file.close()\n",
    "print(\"Fin del proceso\")"
   ]
  },
  {
   "cell_type": "markdown",
   "id": "d05e737c",
   "metadata": {},
   "source": [
    "# fichero 5"
   ]
  },
  {
   "cell_type": "code",
   "execution_count": 5,
   "id": "d42e0b07",
   "metadata": {},
   "outputs": [
    {
     "name": "stdout",
     "output_type": "stream",
     "text": [
      "Opening CSV file 1_5.csv\n",
      "Getting data from CSV file 1_5.csv\n",
      "Closing CSV file 1_5.csv\n",
      "Opening CSV file 2_5.csv\n",
      "Getting data from CSV file 2_5.csv\n",
      "Closing CSV file 2_5.csv\n",
      "Fin del proceso\n"
     ]
    }
   ],
   "source": [
    "# Import the necessary libraries\n",
    "import csv\n",
    "\n",
    "# Get the names of the CSV files\n",
    "csv_file_names = [\"1_5.csv\",\"2_5.csv\"]\n",
    "\n",
    "\n",
    "\n",
    "# Create a new CSV file\n",
    "with open(\"5.csv\", \"w\", newline=\"\") as combined_file:\n",
    "\n",
    "    # Write the desired content to the first row\n",
    "    writer = csv.writer(combined_file)\n",
    "    #writer.writerow([\"timestamp\", \"VLN\", \"A\", \"W\", \"f\", \"PF\"])\n",
    "    writer.writerow([\"timestamp\",\"W\",\"VAR\",\"VA\",\"f\",\"VLN\",\"PF\",\"A\",\"VH1\",\"VH2\",\"VH3\",\"VH4\",\"VH5\",\"VH6\",\"VH7\",\"VH8\",\"VH9\",\"VH10\",\"VH11\",\"VH12\",\"VH13\",\"VH14\",\"VH15\",\"VH16\",\"VH17\",\"VH18\",\"VH19\",\"VH20\",\"VH21\",\"VH22\",\"VH23\",\"VH24\",\"VH25\",\"VH26\",\"VH27\",\"VH28\",\"VH29\",\"VH30\",\"VH31\",\"VH32\",\"VH33\",\"VH34\",\"VH35\",\"VH36\",\"VH37\",\"VH38\",\"VH39\",\"VH40\",\"VH41\",\"VH42\",\"VH43\",\"VH44\",\"VH45\",\"VH46\",\"VH47\",\"VH48\",\"VH49\",\"VH50\",\"IH1\",\"IH2\",\"IH3\",\"IH4\",\"IH5\",\"IH6\",\"IH7\",\"IH8\",\"IH9\",\"IH10\",\"IH11\",\"IH12\",\"IH13\",\"IH14\",\"IH15\",\"IH16\",\"IH17\",\"IH18\",\"IH19\",\"IH20\",\"IH21\",\"IH22\",\"IH23\",\"IH24\",\"IH25\",\"IH26\",\"IH27\",\"IH28\",\"IH29\",\"IH30\",\"IH31\",\"IH32\",\"IH33\",\"IH34\",\"IH35\",\"IH36\",\"IH37\",\"IH38\",\"IH39\",\"IH40\",\"IH41\",\"IH42\",\"IH43\",\"IH44\",\"IH45\",\"IH46\",\"IH47\",\"IH48\",\"IH49\",\"IH50\",\"PH1\",\"PH2\",\"PH3\",\"PH4\",\"PH5\",\"PH6\",\"PH7\",\"PH8\",\"PH9\",\"PH10\",\"PH11\",\"PH12\",\"PH13\",\"PH14\",\"PH15\",\"PH16\",\"PH17\",\"PH18\",\"PH19\",\"PH20\",\"PH21\",\"PH22\",\"PH23\",\"PH24\",\"PH25\",\"PH26\",\"PH27\",\"PH28\",\"PH29\",\"PH30\",\"PH31\",\"PH32\",\"PH33\",\"PH34\",\"PH35\",\"PH36\",\"PH37\",\"PH38\",\"PH39\",\"PH40\",\"PH41\",\"PH42\",\"PH43\",\"PH44\",\"PH45\",\"PH46\",\"PH47\",\"PH48\",\"PH49\",\"PH50\"])\n",
    "\n",
    "    # For each CSV file\n",
    "    for csv_file_name in csv_file_names:\n",
    "        print(\"Opening CSV file {}\".format(csv_file_name))\n",
    "\n",
    "        # Open the CSV file\n",
    "        with open(csv_file_name, \"r\") as csv_file:\n",
    "            print(\"Getting data from CSV file {}\".format(csv_file_name))\n",
    "\n",
    "            # Get the data\n",
    "            data = csv.reader(csv_file)\n",
    "\n",
    "            # Skip the first row\n",
    "            next(data)\n",
    "\n",
    "            # Write the data to the new CSV file\n",
    "            for row in data:\n",
    "                writer.writerow(row)\n",
    "\n",
    "        print(\"Closing CSV file {}\".format(csv_file_name))\n",
    "\n",
    "# Close the new CSV file\n",
    "combined_file.close()\n",
    "print(\"Fin del proceso\")"
   ]
  },
  {
   "cell_type": "markdown",
   "id": "44d8ec1a",
   "metadata": {},
   "source": [
    "# fichero 6"
   ]
  },
  {
   "cell_type": "code",
   "execution_count": 10,
   "id": "1c8382b2",
   "metadata": {},
   "outputs": [
    {
     "name": "stdout",
     "output_type": "stream",
     "text": [
      "Opening CSV file 1_6.csv\n",
      "Getting data from CSV file 1_6.csv\n",
      "Closing CSV file 1_6.csv\n",
      "Opening CSV file 2_6.csv\n",
      "Getting data from CSV file 2_6.csv\n",
      "Closing CSV file 2_6.csv\n",
      "Fin del proceso\n"
     ]
    }
   ],
   "source": [
    "# Import the necessary libraries\n",
    "import csv\n",
    "\n",
    "# Get the names of the CSV files\n",
    "csv_file_names = [  \"1_6.csv\",\"2_6.csv\"]\n",
    "\n",
    "\n",
    "\n",
    "# Create a new CSV file\n",
    "with open(\"6.csv\", \"w\", newline=\"\") as combined_file:\n",
    "\n",
    "    # Write the desired content to the first row\n",
    "    writer = csv.writer(combined_file)\n",
    "    #writer.writerow([\"timestamp\", \"VLN\", \"A\", \"W\", \"f\", \"PF\"])\n",
    "    writer.writerow([\"timestamp\",\"W\",\"VAR\",\"VA\",\"f\",\"VLN\",\"PF\",\"A\",\"VH1\",\"VH2\",\"VH3\",\"VH4\",\"VH5\",\"VH6\",\"VH7\",\"VH8\",\"VH9\",\"VH10\",\"VH11\",\"VH12\",\"VH13\",\"VH14\",\"VH15\",\"VH16\",\"VH17\",\"VH18\",\"VH19\",\"VH20\",\"VH21\",\"VH22\",\"VH23\",\"VH24\",\"VH25\",\"VH26\",\"VH27\",\"VH28\",\"VH29\",\"VH30\",\"VH31\",\"VH32\",\"VH33\",\"VH34\",\"VH35\",\"VH36\",\"VH37\",\"VH38\",\"VH39\",\"VH40\",\"VH41\",\"VH42\",\"VH43\",\"VH44\",\"VH45\",\"VH46\",\"VH47\",\"VH48\",\"VH49\",\"VH50\",\"IH1\",\"IH2\",\"IH3\",\"IH4\",\"IH5\",\"IH6\",\"IH7\",\"IH8\",\"IH9\",\"IH10\",\"IH11\",\"IH12\",\"IH13\",\"IH14\",\"IH15\",\"IH16\",\"IH17\",\"IH18\",\"IH19\",\"IH20\",\"IH21\",\"IH22\",\"IH23\",\"IH24\",\"IH25\",\"IH26\",\"IH27\",\"IH28\",\"IH29\",\"IH30\",\"IH31\",\"IH32\",\"IH33\",\"IH34\",\"IH35\",\"IH36\",\"IH37\",\"IH38\",\"IH39\",\"IH40\",\"IH41\",\"IH42\",\"IH43\",\"IH44\",\"IH45\",\"IH46\",\"IH47\",\"IH48\",\"IH49\",\"IH50\",\"PH1\",\"PH2\",\"PH3\",\"PH4\",\"PH5\",\"PH6\",\"PH7\",\"PH8\",\"PH9\",\"PH10\",\"PH11\",\"PH12\",\"PH13\",\"PH14\",\"PH15\",\"PH16\",\"PH17\",\"PH18\",\"PH19\",\"PH20\",\"PH21\",\"PH22\",\"PH23\",\"PH24\",\"PH25\",\"PH26\",\"PH27\",\"PH28\",\"PH29\",\"PH30\",\"PH31\",\"PH32\",\"PH33\",\"PH34\",\"PH35\",\"PH36\",\"PH37\",\"PH38\",\"PH39\",\"PH40\",\"PH41\",\"PH42\",\"PH43\",\"PH44\",\"PH45\",\"PH46\",\"PH47\",\"PH48\",\"PH49\",\"PH50\"])\n",
    "\n",
    "    # For each CSV file\n",
    "    for csv_file_name in csv_file_names:\n",
    "        print(\"Opening CSV file {}\".format(csv_file_name))\n",
    "\n",
    "        # Open the CSV file\n",
    "        with open(csv_file_name, \"r\") as csv_file:\n",
    "            print(\"Getting data from CSV file {}\".format(csv_file_name))\n",
    "\n",
    "            # Get the data\n",
    "            data = csv.reader(csv_file)\n",
    "\n",
    "            # Skip the first row\n",
    "            next(data)\n",
    "\n",
    "            # Write the data to the new CSV file\n",
    "            for row in data:\n",
    "                writer.writerow(row)\n",
    "\n",
    "        print(\"Closing CSV file {}\".format(csv_file_name))\n",
    "\n",
    "# Close the new CSV file\n",
    "combined_file.close()\n",
    "print(\"Fin del proceso\")"
   ]
  },
  {
   "cell_type": "markdown",
   "id": "16d6c041",
   "metadata": {},
   "source": [
    "# fichero 7"
   ]
  },
  {
   "cell_type": "code",
   "execution_count": 6,
   "id": "2ed055e5",
   "metadata": {},
   "outputs": [
    {
     "name": "stdout",
     "output_type": "stream",
     "text": [
      "Opening CSV file 1_7.csv\n",
      "Getting data from CSV file 1_7.csv\n"
     ]
    },
    {
     "name": "stdout",
     "output_type": "stream",
     "text": [
      "Closing CSV file 1_7.csv\n",
      "Opening CSV file 2_7.csv\n",
      "Getting data from CSV file 2_7.csv\n",
      "Closing CSV file 2_7.csv\n",
      "Fin del proceso\n"
     ]
    }
   ],
   "source": [
    "# Import the necessary libraries\n",
    "import csv\n",
    "\n",
    "# Get the names of the CSV files\n",
    "csv_file_names = [ \"1_7.csv\",\"2_7.csv\"]\n",
    "\n",
    "\n",
    "\n",
    "# Create a new CSV file\n",
    "with open(\"7.csv\", \"w\", newline=\"\") as combined_file:\n",
    "\n",
    "    # Write the desired content to the first row\n",
    "    writer = csv.writer(combined_file)\n",
    "    #writer.writerow([\"timestamp\", \"VLN\", \"A\", \"W\", \"f\", \"PF\"])\n",
    "    writer.writerow([\"timestamp\",\"W\",\"VAR\",\"VA\",\"f\",\"VLN\",\"PF\",\"A\",\"VH1\",\"VH2\",\"VH3\",\"VH4\",\"VH5\",\"VH6\",\"VH7\",\"VH8\",\"VH9\",\"VH10\",\"VH11\",\"VH12\",\"VH13\",\"VH14\",\"VH15\",\"VH16\",\"VH17\",\"VH18\",\"VH19\",\"VH20\",\"VH21\",\"VH22\",\"VH23\",\"VH24\",\"VH25\",\"VH26\",\"VH27\",\"VH28\",\"VH29\",\"VH30\",\"VH31\",\"VH32\",\"VH33\",\"VH34\",\"VH35\",\"VH36\",\"VH37\",\"VH38\",\"VH39\",\"VH40\",\"VH41\",\"VH42\",\"VH43\",\"VH44\",\"VH45\",\"VH46\",\"VH47\",\"VH48\",\"VH49\",\"VH50\",\"IH1\",\"IH2\",\"IH3\",\"IH4\",\"IH5\",\"IH6\",\"IH7\",\"IH8\",\"IH9\",\"IH10\",\"IH11\",\"IH12\",\"IH13\",\"IH14\",\"IH15\",\"IH16\",\"IH17\",\"IH18\",\"IH19\",\"IH20\",\"IH21\",\"IH22\",\"IH23\",\"IH24\",\"IH25\",\"IH26\",\"IH27\",\"IH28\",\"IH29\",\"IH30\",\"IH31\",\"IH32\",\"IH33\",\"IH34\",\"IH35\",\"IH36\",\"IH37\",\"IH38\",\"IH39\",\"IH40\",\"IH41\",\"IH42\",\"IH43\",\"IH44\",\"IH45\",\"IH46\",\"IH47\",\"IH48\",\"IH49\",\"IH50\",\"PH1\",\"PH2\",\"PH3\",\"PH4\",\"PH5\",\"PH6\",\"PH7\",\"PH8\",\"PH9\",\"PH10\",\"PH11\",\"PH12\",\"PH13\",\"PH14\",\"PH15\",\"PH16\",\"PH17\",\"PH18\",\"PH19\",\"PH20\",\"PH21\",\"PH22\",\"PH23\",\"PH24\",\"PH25\",\"PH26\",\"PH27\",\"PH28\",\"PH29\",\"PH30\",\"PH31\",\"PH32\",\"PH33\",\"PH34\",\"PH35\",\"PH36\",\"PH37\",\"PH38\",\"PH39\",\"PH40\",\"PH41\",\"PH42\",\"PH43\",\"PH44\",\"PH45\",\"PH46\",\"PH47\",\"PH48\",\"PH49\",\"PH50\"])\n",
    "\n",
    "    # For each CSV file\n",
    "    for csv_file_name in csv_file_names:\n",
    "        print(\"Opening CSV file {}\".format(csv_file_name))\n",
    "\n",
    "        # Open the CSV file\n",
    "        with open(csv_file_name, \"r\") as csv_file:\n",
    "            print(\"Getting data from CSV file {}\".format(csv_file_name))\n",
    "\n",
    "            # Get the data\n",
    "            data = csv.reader(csv_file)\n",
    "\n",
    "            # Skip the first row\n",
    "            next(data)\n",
    "\n",
    "            # Write the data to the new CSV file\n",
    "            for row in data:\n",
    "                writer.writerow(row)\n",
    "\n",
    "        print(\"Closing CSV file {}\".format(csv_file_name))\n",
    "\n",
    "# Close the new CSV file\n",
    "combined_file.close()\n",
    "print(\"Fin del proceso\")"
   ]
  },
  {
   "cell_type": "markdown",
   "id": "21d5b479",
   "metadata": {},
   "source": [
    " # Fichero 8"
   ]
  },
  {
   "cell_type": "code",
   "execution_count": 7,
   "id": "0b323dff",
   "metadata": {},
   "outputs": [
    {
     "name": "stdout",
     "output_type": "stream",
     "text": [
      "Opening CSV file 1_8.csv\n",
      "Getting data from CSV file 1_8.csv\n",
      "Closing CSV file 1_8.csv\n",
      "Opening CSV file 2_8.csv\n",
      "Getting data from CSV file 2_8.csv\n",
      "Closing CSV file 2_8.csv\n",
      "Fin del proceso\n"
     ]
    }
   ],
   "source": [
    "# Import the necessary libraries\n",
    "import csv\n",
    "\n",
    "# Get the names of the CSV files\n",
    "csv_file_names = [  \"1_8.csv\",\"2_8.csv\"]\n",
    "\n",
    "\n",
    "\n",
    "# Create a new CSV file\n",
    "with open(\"8.csv\", \"w\", newline=\"\") as combined_file:\n",
    "\n",
    "    # Write the desired content to the first row\n",
    "    writer = csv.writer(combined_file)\n",
    "    #writer.writerow([\"timestamp\", \"VLN\", \"A\", \"W\", \"f\", \"PF\"])\n",
    "    writer.writerow([\"timestamp\",\"W\",\"VAR\",\"VA\",\"f\",\"VLN\",\"PF\",\"A\",\"VH1\",\"VH2\",\"VH3\",\"VH4\",\"VH5\",\"VH6\",\"VH7\",\"VH8\",\"VH9\",\"VH10\",\"VH11\",\"VH12\",\"VH13\",\"VH14\",\"VH15\",\"VH16\",\"VH17\",\"VH18\",\"VH19\",\"VH20\",\"VH21\",\"VH22\",\"VH23\",\"VH24\",\"VH25\",\"VH26\",\"VH27\",\"VH28\",\"VH29\",\"VH30\",\"VH31\",\"VH32\",\"VH33\",\"VH34\",\"VH35\",\"VH36\",\"VH37\",\"VH38\",\"VH39\",\"VH40\",\"VH41\",\"VH42\",\"VH43\",\"VH44\",\"VH45\",\"VH46\",\"VH47\",\"VH48\",\"VH49\",\"VH50\",\"IH1\",\"IH2\",\"IH3\",\"IH4\",\"IH5\",\"IH6\",\"IH7\",\"IH8\",\"IH9\",\"IH10\",\"IH11\",\"IH12\",\"IH13\",\"IH14\",\"IH15\",\"IH16\",\"IH17\",\"IH18\",\"IH19\",\"IH20\",\"IH21\",\"IH22\",\"IH23\",\"IH24\",\"IH25\",\"IH26\",\"IH27\",\"IH28\",\"IH29\",\"IH30\",\"IH31\",\"IH32\",\"IH33\",\"IH34\",\"IH35\",\"IH36\",\"IH37\",\"IH38\",\"IH39\",\"IH40\",\"IH41\",\"IH42\",\"IH43\",\"IH44\",\"IH45\",\"IH46\",\"IH47\",\"IH48\",\"IH49\",\"IH50\",\"PH1\",\"PH2\",\"PH3\",\"PH4\",\"PH5\",\"PH6\",\"PH7\",\"PH8\",\"PH9\",\"PH10\",\"PH11\",\"PH12\",\"PH13\",\"PH14\",\"PH15\",\"PH16\",\"PH17\",\"PH18\",\"PH19\",\"PH20\",\"PH21\",\"PH22\",\"PH23\",\"PH24\",\"PH25\",\"PH26\",\"PH27\",\"PH28\",\"PH29\",\"PH30\",\"PH31\",\"PH32\",\"PH33\",\"PH34\",\"PH35\",\"PH36\",\"PH37\",\"PH38\",\"PH39\",\"PH40\",\"PH41\",\"PH42\",\"PH43\",\"PH44\",\"PH45\",\"PH46\",\"PH47\",\"PH48\",\"PH49\",\"PH50\"])\n",
    "\n",
    "    # For each CSV file\n",
    "    for csv_file_name in csv_file_names:\n",
    "        print(\"Opening CSV file {}\".format(csv_file_name))\n",
    "\n",
    "        # Open the CSV file\n",
    "        with open(csv_file_name, \"r\") as csv_file:\n",
    "            print(\"Getting data from CSV file {}\".format(csv_file_name))\n",
    "\n",
    "            # Get the data\n",
    "            data = csv.reader(csv_file)\n",
    "\n",
    "            # Skip the first row\n",
    "            next(data)\n",
    "\n",
    "            # Write the data to the new CSV file\n",
    "            for row in data:\n",
    "                writer.writerow(row)\n",
    "\n",
    "        print(\"Closing CSV file {}\".format(csv_file_name))\n",
    "\n",
    "# Close the new CSV file\n",
    "combined_file.close()\n",
    "print(\"Fin del proceso\")"
   ]
  },
  {
   "cell_type": "markdown",
   "id": "dee7a94e",
   "metadata": {},
   "source": [
    "# fichero 9"
   ]
  },
  {
   "cell_type": "code",
   "execution_count": 11,
   "id": "cffc73c1",
   "metadata": {},
   "outputs": [
    {
     "name": "stdout",
     "output_type": "stream",
     "text": [
      "Opening CSV file 1_9.csv\n",
      "Getting data from CSV file 1_9.csv\n"
     ]
    },
    {
     "name": "stdout",
     "output_type": "stream",
     "text": [
      "Closing CSV file 1_9.csv\n",
      "Opening CSV file 2_9.csv\n",
      "Getting data from CSV file 2_9.csv\n",
      "Closing CSV file 2_9.csv\n",
      "Fin del proceso\n"
     ]
    }
   ],
   "source": [
    "# Import the necessary libraries\n",
    "import csv\n",
    "\n",
    "# Get the names of the CSV files\n",
    "csv_file_names = [  \"1_9.csv\",\"2_9.csv\"]\n",
    "\n",
    "\n",
    "\n",
    "# Create a new CSV file\n",
    "with open(\"9.csv\", \"w\", newline=\"\") as combined_file:\n",
    "\n",
    "    # Write the desired content to the first row\n",
    "    writer = csv.writer(combined_file)\n",
    "    #writer.writerow([\"timestamp\", \"VLN\", \"A\", \"W\", \"f\", \"PF\"])\n",
    "    writer.writerow([\"timestamp\",\"W\",\"VAR\",\"VA\",\"f\",\"VLN\",\"PF\",\"A\",\"VH1\",\"VH2\",\"VH3\",\"VH4\",\"VH5\",\"VH6\",\"VH7\",\"VH8\",\"VH9\",\"VH10\",\"VH11\",\"VH12\",\"VH13\",\"VH14\",\"VH15\",\"VH16\",\"VH17\",\"VH18\",\"VH19\",\"VH20\",\"VH21\",\"VH22\",\"VH23\",\"VH24\",\"VH25\",\"VH26\",\"VH27\",\"VH28\",\"VH29\",\"VH30\",\"VH31\",\"VH32\",\"VH33\",\"VH34\",\"VH35\",\"VH36\",\"VH37\",\"VH38\",\"VH39\",\"VH40\",\"VH41\",\"VH42\",\"VH43\",\"VH44\",\"VH45\",\"VH46\",\"VH47\",\"VH48\",\"VH49\",\"VH50\",\"IH1\",\"IH2\",\"IH3\",\"IH4\",\"IH5\",\"IH6\",\"IH7\",\"IH8\",\"IH9\",\"IH10\",\"IH11\",\"IH12\",\"IH13\",\"IH14\",\"IH15\",\"IH16\",\"IH17\",\"IH18\",\"IH19\",\"IH20\",\"IH21\",\"IH22\",\"IH23\",\"IH24\",\"IH25\",\"IH26\",\"IH27\",\"IH28\",\"IH29\",\"IH30\",\"IH31\",\"IH32\",\"IH33\",\"IH34\",\"IH35\",\"IH36\",\"IH37\",\"IH38\",\"IH39\",\"IH40\",\"IH41\",\"IH42\",\"IH43\",\"IH44\",\"IH45\",\"IH46\",\"IH47\",\"IH48\",\"IH49\",\"IH50\",\"PH1\",\"PH2\",\"PH3\",\"PH4\",\"PH5\",\"PH6\",\"PH7\",\"PH8\",\"PH9\",\"PH10\",\"PH11\",\"PH12\",\"PH13\",\"PH14\",\"PH15\",\"PH16\",\"PH17\",\"PH18\",\"PH19\",\"PH20\",\"PH21\",\"PH22\",\"PH23\",\"PH24\",\"PH25\",\"PH26\",\"PH27\",\"PH28\",\"PH29\",\"PH30\",\"PH31\",\"PH32\",\"PH33\",\"PH34\",\"PH35\",\"PH36\",\"PH37\",\"PH38\",\"PH39\",\"PH40\",\"PH41\",\"PH42\",\"PH43\",\"PH44\",\"PH45\",\"PH46\",\"PH47\",\"PH48\",\"PH49\",\"PH50\"])\n",
    "\n",
    "    # For each CSV file\n",
    "    for csv_file_name in csv_file_names:\n",
    "        print(\"Opening CSV file {}\".format(csv_file_name))\n",
    "\n",
    "        # Open the CSV file\n",
    "        with open(csv_file_name, \"r\") as csv_file:\n",
    "            print(\"Getting data from CSV file {}\".format(csv_file_name))\n",
    "\n",
    "            # Get the data\n",
    "            data = csv.reader(csv_file)\n",
    "\n",
    "            # Skip the first row\n",
    "            next(data)\n",
    "\n",
    "            # Write the data to the new CSV file\n",
    "            for row in data:\n",
    "                writer.writerow(row)\n",
    "\n",
    "        print(\"Closing CSV file {}\".format(csv_file_name))\n",
    "\n",
    "# Close the new CSV file\n",
    "combined_file.close()\n",
    "print(\"Fin del proceso\")"
   ]
  },
  {
   "cell_type": "markdown",
   "id": "f1288c5e",
   "metadata": {},
   "source": [
    "# Fichero 10"
   ]
  },
  {
   "cell_type": "code",
   "execution_count": 8,
   "id": "640fa593",
   "metadata": {},
   "outputs": [
    {
     "name": "stdout",
     "output_type": "stream",
     "text": [
      "Opening CSV file 1_10.csv\n",
      "Getting data from CSV file 1_10.csv\n",
      "Closing CSV file 1_10.csv\n",
      "Opening CSV file 2_10.csv\n",
      "Getting data from CSV file 2_10.csv\n",
      "Closing CSV file 2_10.csv\n",
      "Fin del proceso\n"
     ]
    }
   ],
   "source": [
    "# Import the necessary libraries\n",
    "import csv\n",
    "\n",
    "# Get the names of the CSV files\n",
    "csv_file_names = [ \"1_10.csv\",\"2_10.csv\"]\n",
    "\n",
    "\n",
    "\n",
    "# Create a new CSV file\n",
    "with open(\"10.csv\", \"w\", newline=\"\") as combined_file:\n",
    "\n",
    "    # Write the desired content to the first row\n",
    "    writer = csv.writer(combined_file)\n",
    "    #writer.writerow([\"timestamp\", \"VLN\", \"A\", \"W\", \"f\", \"PF\"])\n",
    "    writer.writerow([\"timestamp\",\"W\",\"VAR\",\"VA\",\"f\",\"VLN\",\"PF\",\"A\",\"VH1\",\"VH2\",\"VH3\",\"VH4\",\"VH5\",\"VH6\",\"VH7\",\"VH8\",\"VH9\",\"VH10\",\"VH11\",\"VH12\",\"VH13\",\"VH14\",\"VH15\",\"VH16\",\"VH17\",\"VH18\",\"VH19\",\"VH20\",\"VH21\",\"VH22\",\"VH23\",\"VH24\",\"VH25\",\"VH26\",\"VH27\",\"VH28\",\"VH29\",\"VH30\",\"VH31\",\"VH32\",\"VH33\",\"VH34\",\"VH35\",\"VH36\",\"VH37\",\"VH38\",\"VH39\",\"VH40\",\"VH41\",\"VH42\",\"VH43\",\"VH44\",\"VH45\",\"VH46\",\"VH47\",\"VH48\",\"VH49\",\"VH50\",\"IH1\",\"IH2\",\"IH3\",\"IH4\",\"IH5\",\"IH6\",\"IH7\",\"IH8\",\"IH9\",\"IH10\",\"IH11\",\"IH12\",\"IH13\",\"IH14\",\"IH15\",\"IH16\",\"IH17\",\"IH18\",\"IH19\",\"IH20\",\"IH21\",\"IH22\",\"IH23\",\"IH24\",\"IH25\",\"IH26\",\"IH27\",\"IH28\",\"IH29\",\"IH30\",\"IH31\",\"IH32\",\"IH33\",\"IH34\",\"IH35\",\"IH36\",\"IH37\",\"IH38\",\"IH39\",\"IH40\",\"IH41\",\"IH42\",\"IH43\",\"IH44\",\"IH45\",\"IH46\",\"IH47\",\"IH48\",\"IH49\",\"IH50\",\"PH1\",\"PH2\",\"PH3\",\"PH4\",\"PH5\",\"PH6\",\"PH7\",\"PH8\",\"PH9\",\"PH10\",\"PH11\",\"PH12\",\"PH13\",\"PH14\",\"PH15\",\"PH16\",\"PH17\",\"PH18\",\"PH19\",\"PH20\",\"PH21\",\"PH22\",\"PH23\",\"PH24\",\"PH25\",\"PH26\",\"PH27\",\"PH28\",\"PH29\",\"PH30\",\"PH31\",\"PH32\",\"PH33\",\"PH34\",\"PH35\",\"PH36\",\"PH37\",\"PH38\",\"PH39\",\"PH40\",\"PH41\",\"PH42\",\"PH43\",\"PH44\",\"PH45\",\"PH46\",\"PH47\",\"PH48\",\"PH49\",\"PH50\"])\n",
    "\n",
    "    # For each CSV file\n",
    "    for csv_file_name in csv_file_names:\n",
    "        print(\"Opening CSV file {}\".format(csv_file_name))\n",
    "\n",
    "        # Open the CSV file\n",
    "        with open(csv_file_name, \"r\") as csv_file:\n",
    "            print(\"Getting data from CSV file {}\".format(csv_file_name))\n",
    "\n",
    "            # Get the data\n",
    "            data = csv.reader(csv_file)\n",
    "\n",
    "            # Skip the first row\n",
    "            next(data)\n",
    "\n",
    "            # Write the data to the new CSV file\n",
    "            for row in data:\n",
    "                writer.writerow(row)\n",
    "\n",
    "        print(\"Closing CSV file {}\".format(csv_file_name))\n",
    "\n",
    "# Close the new CSV file\n",
    "combined_file.close()\n",
    "print(\"Fin del proceso\")"
   ]
  },
  {
   "cell_type": "markdown",
   "id": "61f7f17c",
   "metadata": {},
   "source": [
    "# Fichero 11"
   ]
  },
  {
   "cell_type": "code",
   "execution_count": 9,
   "id": "9f59acb1",
   "metadata": {},
   "outputs": [
    {
     "name": "stdout",
     "output_type": "stream",
     "text": [
      "Opening CSV file 1_11.csv\n",
      "Getting data from CSV file 1_11.csv\n",
      "Closing CSV file 1_11.csv\n",
      "Opening CSV file 2_11.csv\n",
      "Getting data from CSV file 2_11.csv\n",
      "Closing CSV file 2_11.csv\n",
      "Fin del proceso\n"
     ]
    }
   ],
   "source": [
    "# Import the necessary libraries\n",
    "import csv\n",
    "\n",
    "# Get the names of the CSV files\n",
    "csv_file_names = [  \"1_11.csv\",\"2_11.csv\"]\n",
    "\n",
    "\n",
    "\n",
    "# Create a new CSV file\n",
    "with open(\"11.csv\", \"w\", newline=\"\") as combined_file:\n",
    "\n",
    "    # Write the desired content to the first row\n",
    "    writer = csv.writer(combined_file)\n",
    "    #writer.writerow([\"timestamp\", \"VLN\", \"A\", \"W\", \"f\", \"PF\"])\n",
    "    writer.writerow([\"timestamp\",\"W\",\"VAR\",\"VA\",\"f\",\"VLN\",\"PF\",\"A\",\"VH1\",\"VH2\",\"VH3\",\"VH4\",\"VH5\",\"VH6\",\"VH7\",\"VH8\",\"VH9\",\"VH10\",\"VH11\",\"VH12\",\"VH13\",\"VH14\",\"VH15\",\"VH16\",\"VH17\",\"VH18\",\"VH19\",\"VH20\",\"VH21\",\"VH22\",\"VH23\",\"VH24\",\"VH25\",\"VH26\",\"VH27\",\"VH28\",\"VH29\",\"VH30\",\"VH31\",\"VH32\",\"VH33\",\"VH34\",\"VH35\",\"VH36\",\"VH37\",\"VH38\",\"VH39\",\"VH40\",\"VH41\",\"VH42\",\"VH43\",\"VH44\",\"VH45\",\"VH46\",\"VH47\",\"VH48\",\"VH49\",\"VH50\",\"IH1\",\"IH2\",\"IH3\",\"IH4\",\"IH5\",\"IH6\",\"IH7\",\"IH8\",\"IH9\",\"IH10\",\"IH11\",\"IH12\",\"IH13\",\"IH14\",\"IH15\",\"IH16\",\"IH17\",\"IH18\",\"IH19\",\"IH20\",\"IH21\",\"IH22\",\"IH23\",\"IH24\",\"IH25\",\"IH26\",\"IH27\",\"IH28\",\"IH29\",\"IH30\",\"IH31\",\"IH32\",\"IH33\",\"IH34\",\"IH35\",\"IH36\",\"IH37\",\"IH38\",\"IH39\",\"IH40\",\"IH41\",\"IH42\",\"IH43\",\"IH44\",\"IH45\",\"IH46\",\"IH47\",\"IH48\",\"IH49\",\"IH50\",\"PH1\",\"PH2\",\"PH3\",\"PH4\",\"PH5\",\"PH6\",\"PH7\",\"PH8\",\"PH9\",\"PH10\",\"PH11\",\"PH12\",\"PH13\",\"PH14\",\"PH15\",\"PH16\",\"PH17\",\"PH18\",\"PH19\",\"PH20\",\"PH21\",\"PH22\",\"PH23\",\"PH24\",\"PH25\",\"PH26\",\"PH27\",\"PH28\",\"PH29\",\"PH30\",\"PH31\",\"PH32\",\"PH33\",\"PH34\",\"PH35\",\"PH36\",\"PH37\",\"PH38\",\"PH39\",\"PH40\",\"PH41\",\"PH42\",\"PH43\",\"PH44\",\"PH45\",\"PH46\",\"PH47\",\"PH48\",\"PH49\",\"PH50\"])\n",
    "\n",
    "    # For each CSV file\n",
    "    for csv_file_name in csv_file_names:\n",
    "        print(\"Opening CSV file {}\".format(csv_file_name))\n",
    "\n",
    "        # Open the CSV file\n",
    "        with open(csv_file_name, \"r\") as csv_file:\n",
    "            print(\"Getting data from CSV file {}\".format(csv_file_name))\n",
    "\n",
    "            # Get the data\n",
    "            data = csv.reader(csv_file)\n",
    "\n",
    "            # Skip the first row\n",
    "            next(data)\n",
    "\n",
    "            # Write the data to the new CSV file\n",
    "            for row in data:\n",
    "                writer.writerow(row)\n",
    "\n",
    "        print(\"Closing CSV file {}\".format(csv_file_name))\n",
    "\n",
    "# Close the new CSV file\n",
    "combined_file.close()\n",
    "print(\"Fin del proceso\")"
   ]
  },
  {
   "cell_type": "code",
   "execution_count": null,
   "id": "d2549a60",
   "metadata": {},
   "outputs": [],
   "source": []
  },
  {
   "cell_type": "code",
   "execution_count": null,
   "id": "fc7d8501",
   "metadata": {},
   "outputs": [],
   "source": []
  }
 ],
 "metadata": {
  "kernelspec": {
   "display_name": "Python (nilmtk-env)",
   "language": "python",
   "name": "nilmtk-env"
  },
  "language_info": {
   "codemirror_mode": {
    "name": "ipython",
    "version": 3
   },
   "file_extension": ".py",
   "mimetype": "text/x-python",
   "name": "python",
   "nbconvert_exporter": "python",
   "pygments_lexer": "ipython3",
   "version": "3.6.13"
  }
 },
 "nbformat": 4,
 "nbformat_minor": 5
}
